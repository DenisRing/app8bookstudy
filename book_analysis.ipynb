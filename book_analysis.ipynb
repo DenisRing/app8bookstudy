{
 "cells": [
  {
   "cell_type": "markdown",
   "id": "e64ec9b0-ed88-4483-b837-d07fbf53eafd",
   "metadata": {},
   "source": [
    "# Load The Book"
   ]
  },
  {
   "cell_type": "code",
   "execution_count": 1,
   "id": "f58791d5-73e5-440f-a388-77b00831a4fd",
   "metadata": {
    "tags": []
   },
   "outputs": [],
   "source": [
    "with open(\"miracle_in_the_andes.txt\", \"r\") as file:\n",
    "    book = file.read()"
   ]
  },
  {
   "cell_type": "code",
   "execution_count": 3,
   "id": "46ff80af-b990-4d23-97c4-baf7b634a326",
   "metadata": {
    "tags": []
   },
   "outputs": [
    {
     "data": {
      "text/plain": [
       "str"
      ]
     },
     "execution_count": 3,
     "metadata": {},
     "output_type": "execute_result"
    }
   ],
   "source": [
    "type(book)"
   ]
  },
  {
   "cell_type": "markdown",
   "id": "e9970c37-8318-4a7a-99b6-a0e54f7af39c",
   "metadata": {},
   "source": [
    "# How many Chapters?"
   ]
  },
  {
   "cell_type": "markdown",
   "id": "dc83d67c-3bbe-438a-9ea1-f31b6d4bafe2",
   "metadata": {},
   "source": [
    "### With string methods"
   ]
  },
  {
   "cell_type": "code",
   "execution_count": 4,
   "id": "62beac6d-0072-446e-a4e4-470d132a456c",
   "metadata": {
    "tags": []
   },
   "outputs": [
    {
     "data": {
      "text/plain": [
       "11"
      ]
     },
     "execution_count": 4,
     "metadata": {},
     "output_type": "execute_result"
    }
   ],
   "source": [
    "book.count(\"Chapter\")"
   ]
  },
  {
   "cell_type": "markdown",
   "id": "4b9b6cac-baf3-461c-ac85-249ea3aacd78",
   "metadata": {},
   "source": [
    "### Above isn't accurate, try with regex"
   ]
  },
  {
   "cell_type": "code",
   "execution_count": 5,
   "id": "569b74b0-2b6c-45ca-9771-966a98725c8c",
   "metadata": {
    "tags": []
   },
   "outputs": [],
   "source": [
    "import re"
   ]
  },
  {
   "cell_type": "code",
   "execution_count": 8,
   "id": "46f4bbbb-ea2b-4137-9933-64dde47d4642",
   "metadata": {
    "tags": []
   },
   "outputs": [
    {
     "data": {
      "text/plain": [
       "re.compile(r'Chapter [0-9]+', re.UNICODE)"
      ]
     },
     "execution_count": 8,
     "metadata": {},
     "output_type": "execute_result"
    }
   ],
   "source": [
    "pattern = re.compile(\"Chapter [0-9]+\")\n",
    "pattern"
   ]
  },
  {
   "cell_type": "code",
   "execution_count": 11,
   "id": "9a0762df-dcdc-40ac-bf76-f7ee9fbcbc07",
   "metadata": {
    "tags": []
   },
   "outputs": [],
   "source": [
    "findings = re.findall(pattern, book)"
   ]
  },
  {
   "cell_type": "code",
   "execution_count": 12,
   "id": "d32137e8-31c1-48fa-942f-d9a215b19fdd",
   "metadata": {
    "tags": []
   },
   "outputs": [
    {
     "data": {
      "text/plain": [
       "10"
      ]
     },
     "execution_count": 12,
     "metadata": {},
     "output_type": "execute_result"
    }
   ],
   "source": [
    "len(findings)"
   ]
  },
  {
   "cell_type": "markdown",
   "id": "30e34a01-6647-459f-9dd5-821421a18de7",
   "metadata": {},
   "source": [
    "# Which are the sentences where \"love\" was used?"
   ]
  },
  {
   "cell_type": "code",
   "execution_count": 32,
   "id": "2d78e375-50bd-464e-be49-eab2d35503e7",
   "metadata": {
    "tags": []
   },
   "outputs": [],
   "source": [
    "pattern = re.compile(\"[A-Z]{1}[^.]*[^a-zA-Z]+love[^a-zA-Z]+[^.]*.\")\n",
    "# Everything but not commas before, \n",
    "findings = re.findall(pattern, book)\n",
    "#findings"
   ]
  },
  {
   "cell_type": "markdown",
   "id": "7d92029b-d6d3-419b-8b79-f3944c74f4a0",
   "metadata": {},
   "source": [
    "# What are the most used words?"
   ]
  },
  {
   "cell_type": "code",
   "execution_count": 36,
   "id": "ef4a029d-e958-4394-aceb-df1419830ca9",
   "metadata": {
    "tags": []
   },
   "outputs": [
    {
     "data": {
      "text/plain": [
       "361730"
      ]
     },
     "execution_count": 36,
     "metadata": {},
     "output_type": "execute_result"
    }
   ],
   "source": [
    "pattern = re.compile(\"[a-zA-Z]\")\n",
    "findings = re.findall(pattern, book.lower())\n",
    "len(findings)\n",
    "#words in the book"
   ]
  },
  {
   "cell_type": "code",
   "execution_count": 40,
   "id": "6d9c14a4-1151-4d0d-bf9b-1bac136ece09",
   "metadata": {
    "tags": []
   },
   "outputs": [],
   "source": [
    "pattern = re.compile(\"[a-zA-Z]\")\n",
    "findings = re.findall(pattern, book.lower())"
   ]
  },
  {
   "cell_type": "code",
   "execution_count": 47,
   "id": "33186ccc-68f5-424b-ba0b-ec3552b3af1a",
   "metadata": {
    "tags": []
   },
   "outputs": [],
   "source": [
    "pattern = re.compile(\"[a-zA-Z]+\")\n",
    "findings = re.findall(pattern, book.lower())"
   ]
  },
  {
   "cell_type": "code",
   "execution_count": 49,
   "id": "214a0f1b-50c1-4552-bb59-aaad0636744e",
   "metadata": {
    "tags": []
   },
   "outputs": [
    {
     "data": {
      "text/plain": [
       "86798"
      ]
     },
     "execution_count": 49,
     "metadata": {},
     "output_type": "execute_result"
    }
   ],
   "source": [
    "len(findings) #this is actually the amount of words"
   ]
  },
  {
   "cell_type": "code",
   "execution_count": 50,
   "id": "fb0c99fd-9e3a-4d92-82a3-3aca4ac5774b",
   "metadata": {
    "tags": []
   },
   "outputs": [],
   "source": [
    "pattern = re.compile(\"[a-zA-Z]+\")\n",
    "findings = re.findall(pattern, book.lower())"
   ]
  },
  {
   "cell_type": "code",
   "execution_count": 51,
   "id": "40e38fb6-6bc2-4d6f-8101-bff1ca308cfb",
   "metadata": {
    "tags": []
   },
   "outputs": [
    {
     "data": {
      "text/plain": [
       "['chapter', 'before', 'it', 'was', 'friday']"
      ]
     },
     "execution_count": 51,
     "metadata": {},
     "output_type": "execute_result"
    }
   ],
   "source": [
    "findings[:5]"
   ]
  },
  {
   "cell_type": "code",
   "execution_count": 52,
   "id": "158d546d-9072-452c-aad0-3b19a4fcd195",
   "metadata": {
    "tags": []
   },
   "outputs": [],
   "source": [
    "d = {}\n",
    "for word in findings:\n",
    "    if word in d.keys():\n",
    "        d[word] = d[word] + 1\n",
    "    else:\n",
    "        d[word] = 1\n",
    "    "
   ]
  },
  {
   "cell_type": "code",
   "execution_count": 57,
   "id": "c9c38e1b-8821-4fb2-a9a2-92cffd89a07a",
   "metadata": {
    "tags": []
   },
   "outputs": [],
   "source": [
    "#d_list = [(value, key) for (key, value) in d.items()]\n",
    "#sorted(d_list, reverse=True)"
   ]
  },
  {
   "cell_type": "markdown",
   "id": "d333a4ab-6346-469f-a137-1404c1b8eac3",
   "metadata": {},
   "source": [
    "# Extract the paragraphs where \"love\" was used"
   ]
  },
  {
   "cell_type": "code",
   "execution_count": 67,
   "id": "bc3b0020-0431-4bc5-a3b9-e332a803bd62",
   "metadata": {
    "tags": []
   },
   "outputs": [],
   "source": [
    "pattern = re.compile(\"[A-Z]{1}[^\\n]*[^a-zA-Z]+love[^a-zA-Z]+[^\\n]*.\")\n",
    "findings = re.findall(pattern, book)\n",
    "#could have just used the breakline here and\n",
    "#findings\n",
    "#for this, I excluded where a breakline /n was used"
   ]
  },
  {
   "cell_type": "markdown",
   "id": "f9666759-a747-4774-b509-3860f652c949",
   "metadata": {},
   "source": [
    "# Extract the chapter titles, the first word/s after Chapter"
   ]
  },
  {
   "cell_type": "code",
   "execution_count": 74,
   "id": "cbc056f7-01a4-495b-a6d5-20d3b47c4c38",
   "metadata": {
    "tags": []
   },
   "outputs": [
    {
     "data": {
      "text/plain": [
       "['Before',\n",
       " 'Everything Precious',\n",
       " 'A Promise',\n",
       " 'Breathe Once More',\n",
       " 'Abandoned',\n",
       " 'Tomb',\n",
       " 'East',\n",
       " 'The Opposite of Death',\n",
       " 'I See a Man',\n",
       " 'After']"
      ]
     },
     "execution_count": 74,
     "metadata": {},
     "output_type": "execute_result"
    }
   ],
   "source": [
    "pattern = re.compile(\"Chapter\\s+[0-9]+\\s+(.*)\")\n",
    "#slash s is any whitespace,(.*) caputres any group of characters as a group\n",
    "# the . matches any characters that isnt a new line\n",
    "# the * is zero or more times\n",
    "# so its any character\n",
    "findings = re.findall(pattern, book)\n",
    "findings"
   ]
  },
  {
   "cell_type": "markdown",
   "id": "359e51ed-fd9b-4068-ae95-46ace0837285",
   "metadata": {},
   "source": [
    "# Function that finds occurance of any word"
   ]
  },
  {
   "cell_type": "code",
   "execution_count": 87,
   "id": "750759b4-a9ef-4b78-ba00-f4d3871a9fc8",
   "metadata": {
    "tags": []
   },
   "outputs": [],
   "source": [
    "def find(w):\n",
    "    pattern = re.compile(\"a-ZA-Z\")\n",
    "    findings = re.findall(pattern, book.lower())\n",
    "    d = {}\n",
    "    for word in findings:\n",
    "        if word in d.keys():\n",
    "            d[word] = d[word] + 1\n",
    "        else:\n",
    "            d[word] = 1\n",
    "    try:\n",
    "        return d[w]\n",
    "    except:\n",
    "        return f'The book does not contain the word \"{w}\"'"
   ]
  },
  {
   "cell_type": "markdown",
   "id": "f5cfe8ca-c9ea-4c09-81ab-9ef4dc021782",
   "metadata": {},
   "source": [
    "# Call above function"
   ]
  },
  {
   "cell_type": "code",
   "execution_count": 88,
   "id": "d55ca7d0-9c38-409a-a4c3-63ae97a970e0",
   "metadata": {
    "tags": []
   },
   "outputs": [
    {
     "data": {
      "text/plain": [
       "'The book does not contain the word \"love\"'"
      ]
     },
     "execution_count": 88,
     "metadata": {},
     "output_type": "execute_result"
    }
   ],
   "source": [
    "find(\"love\")"
   ]
  }
 ],
 "metadata": {
  "kernelspec": {
   "display_name": "Python 3 (ipykernel)",
   "language": "python",
   "name": "python3"
  },
  "language_info": {
   "codemirror_mode": {
    "name": "ipython",
    "version": 3
   },
   "file_extension": ".py",
   "mimetype": "text/x-python",
   "name": "python",
   "nbconvert_exporter": "python",
   "pygments_lexer": "ipython3",
   "version": "3.10.0"
  }
 },
 "nbformat": 4,
 "nbformat_minor": 5
}
